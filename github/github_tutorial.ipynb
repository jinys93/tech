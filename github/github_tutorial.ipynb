{
 "cells": [
  {
   "cell_type": "markdown",
   "metadata": {},
   "source": [
    "## 팀 개발을 위한 git/github 시작하기"
   ]
  },
  {
   "cell_type": "markdown",
   "metadata": {},
   "source": [
    "#### 1. git 그리고 github\n",
    "버전 관리란 무엇인가?  \n",
    "- 내가 원하는 시점(버전)으로 이동할 수 있게 해주는 것이 버전관리이며, 이를 도와두는 툴이 버전 관리 시스템이다.\n",
    "- 협업을 하는 경우?\n",
    "    - 팀 프로젝트에 참여하는 인원이 많을 수록, 프로젝트 기간이 길수록 어느 파일이 최종 업데이트 파일인지 확인할 길이 막막해진다. 그래서 여럿이 함께 작업하는 협업 프로젝트에는 버전 관리가 필요함.\n",
    "    - 내가 원하는 시점마다 깃발을 꽂고, 깃발이 꽂힌 시점으로 자유롭게 이동할 수 있다면 편안하게 새로운 소스코드를 추가하거나 삭제하면 된다: Git\n",
    "    - Git은 데이터를 저장할 공간만 있다면 어디서나 사용할 수 있다. (드롭박스, 구글 클라우드...)\n",
    "        - 이런 Git 호스팅 사이트중 하나가 Github이다.\n",
    "    - Github에 소스코드를 올려두면 시간, 공간의 제약 없이 협업할 수 있다. : 누구든지 기여할 수 있는 공개저장소 프로젝트를 오픈소스라고 한다."
   ]
  },
  {
   "cell_type": "markdown",
   "metadata": {},
   "source": [
    "[.git] 폴더에는 Git으로 생성한 버전들의 정보와 원격저장소 주소등이 들어있다. 이를 로컬 저장소라고 부른다.  "
   ]
  },
  {
   "cell_type": "markdown",
   "metadata": {},
   "source": [
    "```\n",
    "$git config --global user.email [E_mail(ex:\"yjgil123@gmail.com\")]  \n",
    "$git config --global user.name [ID (ex:\"yeongjaeGil\")]  \n",
    "$git add README.txt  \n",
    "$git commit -m [EXPLAIN(ex:\"내가 이 파일으 로애 만들었는지 설명\")]\"\"  \n",
    "# [-m]은 'message' 약자  \n",
    "다른 커밋보기  \n",
    "$git log  \n",
    "#commit 91dc12bd216c64c5862dc120253bb852c80d8721 같이 나오면 앞에서 7자리 혹은 전체로 돌아갈 수 있음.  \n",
    "$git checkout [COMMIT_ID (ex:91dc12b)]  \n",
    "#돌아가려면 두번째 커밋 번호를 적든 '-'를 기술  \n",
    "$git checkout -   \n",
    "checkout 명령어를 사용해서 원하는 시점으로 파일을 되돌릴 수 있다.  \n",
    "#github에서 레포 만들기  \n",
    "$git remote add origin [Git repo (ex:https://Github.com/yeongjaeGil/git-test.git)]  \n",
    "$git push origin master  \n",
    "#username / 비번 입력  \n",
    "```"
   ]
  },
  {
   "cell_type": "markdown",
   "metadata": {},
   "source": [
    "4. Github 원격저장소의 커밋을 로컬 저장소에 내려받기 \n",
    "```\n",
    "$ git clone https://Github.com/yeongjaeGil/git-test.git .\n",
    "$ git pull origin master\n",
    "```"
   ]
  },
  {
   "cell_type": "markdown",
   "metadata": {},
   "source": [
    "### GUI환경에서 버전 관리 시작하기\n",
    "- GUI 환경의 장점: 파일을 선택하고, 커밋 만들고, 만든 커밋을 확인하는 모든 과정을 시각적으로 확인할 수 있다.\n",
    "- 소스트리 사용하기 commit, push, branch등을 눈으로 쉽게 확인할 수 있다.\n",
    "- origin은 우리가 연결한 Github 원격저장소의 닉네임\n",
    "- master는 우리가 커밋을 올리는 '줄기'의 이름"
   ]
  },
  {
   "cell_type": "markdown",
   "metadata": {},
   "source": [
    "#### 9.3 그림으로 Git 뜯어보기\n"
   ]
  },
  {
   "cell_type": "code",
   "execution_count": null,
   "metadata": {},
   "outputs": [],
   "source": []
  }
 ],
 "metadata": {
  "kernelspec": {
   "display_name": "spark",
   "language": "python",
   "name": "spark"
  },
  "language_info": {
   "codemirror_mode": {
    "name": "ipython",
    "version": 3
   },
   "file_extension": ".py",
   "mimetype": "text/x-python",
   "name": "python",
   "nbconvert_exporter": "python",
   "pygments_lexer": "ipython3",
   "version": "3.6.9"
  }
 },
 "nbformat": 4,
 "nbformat_minor": 4
}
