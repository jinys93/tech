{
 "cells": [
  {
   "cell_type": "markdown",
   "metadata": {},
   "source": [
    "CLEAN CODE python"
   ]
  },
  {
   "cell_type": "markdown",
   "metadata": {},
   "source": [
    "## Chapter 1.소개, 코드 포매팅과 도구"
   ]
  },
  {
   "cell_type": "markdown",
   "metadata": {},
   "source": [
    "클린코드의 의미\n",
    "- 프로그래밍 언어의 진정한 의미는 아이디어를 다른 개발자에게 전달하는 것\n",
    "    - 우리는 코드를 작성하는 것보다 읽는데 훨씬 더 많은 시간을 소비함.\n",
    "- 중요성\n",
    "    - 유지보수성 향상\n",
    "    - 기술 부채의 감소\n",
    "    - 애자일 개발을 통한 효과적인 작업 진행\n",
    "    - 성공적인 프로젝트 관리\n",
    "- 좋은 코드 레이어아웃\n",
    "    - 일관성 -> 가독성이 높아지고 이해하기 쉬워짐"
   ]
  },
  {
   "cell_type": "markdown",
   "metadata": {},
   "source": [
    "훌륭한 코드는 그 자체로 자명하지만 문서화 또한 잘 되어 있다. 주석을 추가하는 것과는 다르다. 문서화를 통해 데이터 타입이 무엇인지를 설명하고 예제를 제공할 수 있다.\n",
    "- Docstring\n",
    "   - 소스 코드에 포함된 문서(documnention)이다. 기본적으로 리터럴 문자열이다.\n",
    "   - 이유가 아니라 설명이다.\n",
    "   - 코드의 특정 component(module, class, method or function)에 대한 문서화다. 이런 컴포넌트에 사용하는 것은 허용될 뿐 아니라 권장되는 부분이다. 가능한 많은 docstring을 추가하는 것이 좋다.\n",
    "       - 동적 타이핑 언어이므로 변수가 어떤 데이터 타입인지 강요를 하지 않는다. \n",
    "       - 예상되는 함수의 입력과 출력을 문서화하면 사용자가 사용할 때 함수가 어떻게 동작하는지 이해하기 쉽다.\n",
    "   - 모든 팀원이 문서화에 참여할 수 있어야 한다. 단점은 지속적인 수작업이다. \n",
    "       - 적절한 문서를 유지하는 것은 소프트웨어 엔지니어링에서 피할 수 없는 과제이다. 문서화에 수작업이 필요한 이유는 결국은 다른 사람이 읽기 때문\n",
    "   - 주석의 단점\n",
    "       - 코드로 아이디어를 제대로 표현하지 못했음을 나타냄.\n",
    "       - 오해의 소지가 있다. 복잡한 코드를 이해하기 위해 시간을 할애하는것 보다 최악은 코드가 어떻게 동작하는지 주석을 확인한 후 실제로 동작하는 것의 다른점을 파악하는것.\n",
    "       - 사람들은 코드를 변경할 때 주석 업데이트를 깜빡하는 경우가 많다. 방금 수정한 코드 근처의 주석이 현재와 일치하지 않을 경우 또 다른 위험을 초래\n",
    "- Annotation\n",
    "    - 기본 아이디어: 코드 사용자에게 함수 인자로 어떤 값이 와야 하는지 힌트를 주는 것. 변수의 예상 타입을 지정할 수 있다.\n",
    "    - 파이썬은 동적으로 타입을 결정하기 때문에 함수를 메서드를 거치면 변수나 객체의 값이 무엇인지 알기 어려운 경우가 많음. 어노테이션을 통해 이러한 정보를 명시하면 향후 개발에 도움이 됨. (python은 타입을 강제하지 않는다.)"
   ]
  },
  {
   "cell_type": "markdown",
   "metadata": {},
   "source": [
    "#### Docstring example"
   ]
  },
  {
   "cell_type": "code",
   "execution_count": 1,
   "metadata": {},
   "outputs": [],
   "source": [
    "def my_function(x):\n",
    "    '''3*x'''\n",
    "    return 3*x"
   ]
  },
  {
   "cell_type": "code",
   "execution_count": 3,
   "metadata": {},
   "outputs": [
    {
     "data": {
      "text/plain": [
       "'3*x'"
      ]
     },
     "execution_count": 3,
     "metadata": {},
     "output_type": "execute_result"
    }
   ],
   "source": [
    "my_function.__doc__"
   ]
  },
  {
   "cell_type": "code",
   "execution_count": 9,
   "metadata": {},
   "outputs": [],
   "source": [
    "class Point:\n",
    "    def __init__(self, lat, long):\n",
    "        self.lat = lat\n",
    "        self.long = long\n",
    "\n",
    "def locate(latitute: float, longititue: float) -> Point:\n",
    "    '''맵에서 좌표에 해당하는 객체를 검색'''\n"
   ]
  },
  {
   "cell_type": "code",
   "execution_count": 15,
   "metadata": {},
   "outputs": [
    {
     "data": {
      "text/plain": [
       "{'latitute': float, 'longititue': float, 'return': __main__.Point}"
      ]
     },
     "execution_count": 15,
     "metadata": {},
     "output_type": "execute_result"
    }
   ],
   "source": [
    "locate.__annotations__"
   ]
  },
  {
   "cell_type": "markdown",
   "metadata": {},
   "source": [
    "이 정보를 사용하여 문서 생성, 유효성 검증 또는 타입 체크를 할 수 있다.\n"
   ]
  },
  {
   "cell_type": "code",
   "execution_count": 16,
   "metadata": {},
   "outputs": [],
   "source": [
    "#python 3.6 >\n",
    "class Point:\n",
    "    lat : float\n",
    "    long : float\n",
    "    def __init__(self, lat, long):\n",
    "        self.lat = lat\n",
    "        self.long = long"
   ]
  },
  {
   "cell_type": "code",
   "execution_count": 17,
   "metadata": {},
   "outputs": [
    {
     "data": {
      "text/plain": [
       "{'lat': float, 'long': float}"
      ]
     },
     "execution_count": 17,
     "metadata": {},
     "output_type": "execute_result"
    }
   ],
   "source": [
    "Point.__annotations__"
   ]
  },
  {
   "cell_type": "markdown",
   "metadata": {},
   "source": [
    "#### annotation은 docstring을 대체하는 것일까?\n",
    "- docstring과 annotation은 서로 보와적인 개념이다.\n",
    "- 하지만, docstring을 통해 보다 나은 문서화를 위한 여지를 남겨두어야 한다.\n",
    "- 특히, 동적 데이터 타입과 중첩 데이터 타입의 경우 예상 데이터의 예제를 제공하여 어떤 형태의 데이터를 다루는지 제공하는 것이 좋다.\n"
   ]
  },
  {
   "cell_type": "code",
   "execution_count": 18,
   "metadata": {},
   "outputs": [],
   "source": [
    "def data_from_response(response: dict)->dict:\n",
    "    if response[\"status\"] != 200:\n",
    "        raise ValueError\n",
    "    return {\"data\": response['payload']}\n",
    "# 명확히 알 수 없다."
   ]
  },
  {
   "cell_type": "code",
   "execution_count": 19,
   "metadata": {},
   "outputs": [],
   "source": [
    "def data_from_response(response: dict)->dict:\n",
    "    '''response에 문제가 없다면 response의 payload를 반환\n",
    "    \n",
    "    - response 사전의 예제:\n",
    "    {\n",
    "        \"status\": 200, # <int>\n",
    "        \"timestamp\": \"...\", # 현재 시간의 ISO 포맷 문자역\n",
    "        \"payload\": {...} # 반환하려는 사전 데이터\n",
    "    }\n",
    "    - 반환 사전 값의 예제:\n",
    "    {'data':{..}}\n",
    "    - 발생 가능한 예외:\n",
    "    - HTTP status가 200이 아닌 경우 ValueError 발생\n",
    "    '''\n",
    "    if response[\"status\"] != 200:\n",
    "        raise ValueError\n",
    "    return {\"data\": response['payload']}\n"
   ]
  },
  {
   "cell_type": "markdown",
   "metadata": {},
   "source": [
    "- 이 문서는 입출력 값을 더 잘 이해하기 위해서 뿐아니라 단위 테스트에서도 유용한 정보로 사용된다.\n",
    "- 이러한 docstring을 사용했을 때의 이슈는 코드가 좀 더 커지게 되고, 실제 효과적인 문서가 되려면 보다 상세한 정보가 필요함."
   ]
  },
  {
   "cell_type": "markdown",
   "metadata": {},
   "source": [
    "### 기본 품질 향상을 위한 도구 설정\n",
    "- 반복적인 확인 작업을 줄이기 위해 코드 검사를 자동 실행하는 기본 도구를 설정\n",
    "- 코드는 사람이 이해하기 위한 것이므로 좋은 코드인지 나쁜 코드인지 판단할 수 있는 것도 오직 사람\n",
    "- 개발자는 코드 리뷰에 시간을 투자하고, 훌륭한 코드가 무엇인지, 얼마나 읽기 쉽고 이해하기 쉬운 코디인지에 대해 고민해야함.\n",
    "- 동료의 코드에 다음과 같은 질문을 할 수 있어야함\n",
    "    - 이 코드를 동료 개발자가 쉽게 이해하고 따라갈 수 있을까?\n",
    "    - 업무 도메인에 대해서 말하고 있는가?\n",
    "    - 팀에 새로 합류하는 사람도 쉽게 이해하고 효과적으로 작업할 수 있을까?\n",
    "- 이 모든 검사는 자동화해야 한다. 테스트 또는 체크리스트의 일부가 되어 지속적인 통합 빌드의 하나가 되어야한다. 이러한 검사에 실패하면 빌드도 실패해야 한다. \n",
    "#### 도구\n",
    "- mypy를 사용한 타입 힌팅\n",
    "    - mypy {파일명}을 입력하면 타입 검사 결과를 제공함.\n",
    "    - 하지만 가끔 잘못된 탐지를 하는 경우\n",
    "        - type_to_ignore = \"something\" # type: ignore\n",
    "- pylint를 사용한 검사\n",
    "    - 코드의 구조를 검사하는 도구.\n",
    "    - .pylintrc파일을 통해 설정 값을 바꿀 수 있다.\n",
    "        - 규칙 활성화 또는 비활성화 가능\n",
    "- 자동 검사 설정\n",
    "    - 리눅스 개발환경에서 빌드를 자동화하는 가장 일반적인 방법: makefile\n",
    "    - 빌드이외에도 포매팅 검사나 코딩 컨벤션 검사를 자동화하기 위해 사용할 수 있다.\n",
    "    - 테스트를 위한 각각의 target을 만들고, 이것들을 모두 실행하는 또 다른 target을 만드는 것이다.\n",
    "typelint:  \n",
    "mypy src/ tests/  \n",
    "\n",
    "test:  \n",
    "pytest tests/  \n",
    "\n",
    "lint:  \n",
    "pylint src/ tests/\n",
    "\n",
    "checklist: lint typehint test  \n",
    "\n",
    ".PHONY: typehint test lint checklist  \n",
    "\n",
    "\n",
    "make chechlist는  \n",
    "1. 코드 가이드라인 검사 (예를들면 PEP-8)  \n",
    "2. 올바른 타입을 사용했는지 검사\n",
    "3. 최종적으로 테스트 실행  "
   ]
  },
  {
   "cell_type": "markdown",
   "metadata": {},
   "source": [
    "## Chapter2. Pythonic 코드"
   ]
  },
  {
   "cell_type": "markdown",
   "metadata": {},
   "source": [
    "- 프로그래밍에서 관용구(idiom)은 특정 작업을 수행하기 위해 코드를 작성하는 특별한 방식임. (디자인 패턴과는 다름)\n",
    "    - 차이점은 특정 작업을 할때 디자인 패턴은 고차원의 개념으로 즉시 코드로 변하지 않으나, 관용구는 즉시 코드로 변환\n",
    "- 파이썬스러운 것: Pythomic\n",
    "- 관용적인 방식으로 코드를 작성했을 때\n",
    "    - 일반적으로 더 나은 선능\n",
    "    - 코드도 더 작고 이해하기 쉽다\n",
    "    - 전체 개발팀이 동일한 패턴과 구조에 익숙해지면 실수를 줄이고 문제의 본질에 보다 집중할 수 있다\n",
    "\n",
    "#### 이장의 목표\n",
    "1. 인덱스와 슬라이스를 이해하고 인덱싱 가능한 객체를 올바른 방식으로 구현\n",
    "2. 시퀀스와 이터러블 구현\n",
    "3. 컨텍스트 관리자를 만드는 모범 사례 연구\n",
    "4. 매직 메서드를 사용해 보다 관용적이 코드 구현\n",
    "5. 파이썬에서 부작용을 유발하는 흔한 실수 피하기\n"
   ]
  },
  {
   "cell_type": "markdown",
   "metadata": {},
   "source": [
    "#### Contest manager\n",
    "- 주요 동작의 전후에 작업을 실행하려고 할 때 유용하다.\n",
    "    - 파일을 열면 닫어야한다. 소켓에 대해서도 (리소스 해제)\n",
    "    - 예외 발생이거나 오류 처리할때는 어렵다.\n",
    " "
   ]
  },
  {
   "cell_type": "code",
   "execution_count": null,
   "metadata": {},
   "outputs": [],
   "source": [
    "fd = open(filename)\n",
    "try:\n",
    "    process_file(fd)\n",
    "finally:\n",
    "    fd.close()\n",
    "###Pythonic style\n",
    "\n",
    "with open(filename) as fd:\n",
    "    process_file(fd)\n"
   ]
  },
  {
   "cell_type": "markdown",
   "metadata": {},
   "source": [
    "- with 문(PEP-343)은 컨텍스트 관리자로 진입하게 한다. 이 경우 open 함수는 컨텍스트 관리자 프로토콜을 구현한다. 즉, 예외가 발생한 경우에도 블록이 완료되면 파일이 자동으로 닫힌다.\n",
    "- 컨텍스트 관리자는 __enter__와 __exit__ 두개의 매직 메서드로 구성된다. with 문은 __enter__ 메서드를 호출하고 이 메서드가 무엇을 반환하든 as 이후에 지정된 변수에 할당된다. 사실 __enter__ 메서드가 특정한 값을 반환할 필요는 없다. 설사 값을 반환한다 하더라도 필요하지 않으면 변수에 할당하지 않아도 된다.\n",
    "- 컨텍스트 관리자 블록 내에 예외 또는 오류가 있는 경우에도 __exit__메서드는 블록에서 예외가 발생한 경우 해당 예외를 파라미터로 받기 때문에 임의의 방법으로 처리할 수 있다.\n",
    "- 컨텍스트 관리자가 파일이나 커넥션 등의 리소스 관리에서 매우 자주 사용되기는 하지만, 오직 이런 분야에서만 사용 가능한 것은 아니다. 블록의 전후에 필요로 하는 특정 논리를 제공하기 위해 자체 컨텍스트 관리자를 구현할 수 있다.\n"
   ]
  },
  {
   "cell_type": "code",
   "execution_count": 20,
   "metadata": {},
   "outputs": [],
   "source": [
    "def stop_database():\n",
    "    run('systemtl stop postgresql.service')\n",
    "\n",
    "def start_database():\n",
    "    run('systemtl start postgresqp.service')\n",
    "\n",
    "class DBHandler:\n",
    "    def __enter__(self):\n",
    "        stop_database()\n",
    "    \n",
    "    def __exit__(self, exc_type, ex_value, ex_traceback):\n",
    "        start_database()\n",
    "def db_backup():\n",
    "    run(\"pg_dump database\")\n",
    "\n",
    "def main():\n",
    "    with DBHandeler():\n",
    "        db_backup()"
   ]
  },
  {
   "cell_type": "code",
   "execution_count": 22,
   "metadata": {},
   "outputs": [],
   "source": [
    "import contextlib\n",
    "\n",
    "@contextlib.contextmanager\n",
    "def db_handler():\n",
    "    stop_database()\n",
    "    yield\n",
    "    start_database()\n",
    "\n",
    "with db_handler():\n",
    "    db_backup()"
   ]
  },
  {
   "cell_type": "markdown",
   "metadata": {},
   "source": [
    "이렇게 컨텍스트 매니저를 작성하면 기존 함수를 리팩토링하기 쉬운 장점이 있다. 일반적으로 어느 특정 객체에도 속하지 않은 컨텍스트 관리자가 필요한 경우 좋은 방법이다. 매직 메서드를 추가하면 업무 도메인에 보다 얽히게 되며, 책임이 커지고. 어쩌면 하지 않아도 될 것들을 지원해야만 한다. 많은 상태를 관리할 필요가 없고 다른 클래스와 독립되어 있는 컨테스트 관리자 함수를 만드는 경우는 이렇게 하는 것이 좋은 방법이다.\n"
   ]
  },
  {
   "cell_type": "code",
   "execution_count": null,
   "metadata": {},
   "outputs": [],
   "source": [
    "class dbhandler__decorator(contextlib.ContextDecorator):\n",
    "    def __enter__(self):\n",
    "        stop_database()\n",
    "    def __exit(self, ext_type, ex_value, ex_traceback):\n",
    "        start_database()\n",
    "\n",
    "@dbhandler_decorator()\n",
    "def offline_backup():\n",
    "    run(\"pg_dump database\")"
   ]
  },
  {
   "cell_type": "markdown",
   "metadata": {},
   "source": [
    "- 이쪽은 웹 백앤드를 할때 유용하게 사용될 것 같다."
   ]
  },
  {
   "cell_type": "markdown",
   "metadata": {},
   "source": [
    "### 프로퍼티, 속성과 객체 메서드의 다른 타입들\n",
    "- 기본적으로 모두 public이다.\n",
    "- 밑줄로 시작되는 속상은 해당 객체에 대해 Private을 의미함 (외부에서 호출하지 ㅇ낳기를 기대)\n",
    "\n",
    "파이썬에서의 밑줄  \n",
    "- 객체는 외부 호출 객체와 관련된 속성과 메서드만을 노출해야 한다. 즉 객체의 인터페이스로 공개하는 용도가 아니라면 모든 멤버에는 접두사로 하나의 밑줄을 사용하는 것이 좋다.\n",
    "- __두개를 사용하면 private이 아니라 AttributeError가 발생한다. 프라이빗이라 접근할 수 없다가 아니라 존재하지 않는다라고 반환함. 이것은 실제로 뭔가 다른 일이 벌여졌으며 부작용에 의한 결과로 생긴 것으로 암시\n",
    "- 밑줄 두개는 실제 파이썬에서 다른 이름을 만든다. name mangling이라 한다. 이것이 하는 일은 다음과 같은 이름의 속성을 만드는 것이다. \n",
    "    - \"_<class_name>__<attribute-name>'의 경우 '_Connector__doubleline'이라는 속성이 만들어 지며 이러한 속성은 다음과 같이 접근하여 수정이 가능하다.\n",
    "    - 즉, private의 의미로 만들어진 것이 아니다.\n",
    "    - 여러 번 확장되는 클래스의 메서드를 이름 충돌 없이 오버라이드하기 위해 만들어졌다. \n",
    "    - 의도한 것이 아니라면 이중 밑줄을 사용하지 말자."
   ]
  },
  {
   "cell_type": "code",
   "execution_count": 26,
   "metadata": {},
   "outputs": [
    {
     "name": "stdout",
     "output_type": "stream",
     "text": [
      "test1\n",
      "60\n",
      "120\n"
     ]
    },
    {
     "ename": "AttributeError",
     "evalue": "'Connector' object has no attribute '__doubleline'",
     "output_type": "error",
     "traceback": [
      "\u001b[0;31m---------------------------------------------------------------------------\u001b[0m",
      "\u001b[0;31mAttributeError\u001b[0m                            Traceback (most recent call last)",
      "\u001b[0;32m<ipython-input-26-fb7d1f72bc4a>\u001b[0m in \u001b[0;36m<module>\u001b[0;34m\u001b[0m\n\u001b[1;32m      8\u001b[0m \u001b[0mprint\u001b[0m\u001b[0;34m(\u001b[0m\u001b[0mconn\u001b[0m\u001b[0;34m.\u001b[0m\u001b[0m_timeout\u001b[0m\u001b[0;34m)\u001b[0m\u001b[0;34m\u001b[0m\u001b[0;34m\u001b[0m\u001b[0m\n\u001b[1;32m      9\u001b[0m \u001b[0mprint\u001b[0m\u001b[0;34m(\u001b[0m\u001b[0mconn\u001b[0m\u001b[0;34m.\u001b[0m\u001b[0m_Connector__doubleline\u001b[0m\u001b[0;34m)\u001b[0m\u001b[0;34m\u001b[0m\u001b[0;34m\u001b[0m\u001b[0m\n\u001b[0;32m---> 10\u001b[0;31m \u001b[0mprint\u001b[0m\u001b[0;34m(\u001b[0m\u001b[0mconn\u001b[0m\u001b[0;34m.\u001b[0m\u001b[0m__doubleline\u001b[0m\u001b[0;34m)\u001b[0m\u001b[0;34m\u001b[0m\u001b[0;34m\u001b[0m\u001b[0m\n\u001b[0m",
      "\u001b[0;31mAttributeError\u001b[0m: 'Connector' object has no attribute '__doubleline'"
     ]
    }
   ],
   "source": [
    "class Connector:\n",
    "    def __init__(self, source):\n",
    "        self.source = source\n",
    "        self._timeout = 60\n",
    "        self.__doubleline = 120\n",
    "conn = Connector('test1')\n",
    "print(conn.source)\n",
    "print(conn._timeout)\n",
    "print(conn._Connector__doubleline)\n",
    "print(conn.__doubleline)"
   ]
  },
  {
   "cell_type": "markdown",
   "metadata": {},
   "source": [
    "#### 프로퍼티  \n",
    "- 객체에 값을 저장해야 할 경우 일반적인 속성(attribute)을 사용할 수 있다. 때로는 객체의 상태나 다른 속성의 값을 기반으로 어떤 계산을 하려고 할 때도 있다. 이런 경우 대부분 프로퍼티를 사용하는 것이 좋은 선택이다.\n",
    "- 프로퍼티는 객체의 어떤 속성에 대한 접근을 제어하려는 경우 사용함.\n",
    "- 이렇게 하는 것 또한 파이썬스러운 코드다.\n",
    "- 자바와 같은 다른 프로그래밍 언어에서는 접근 메서드(getter, setter)를 만들지만 파이썬에서는 property를 사용할 수 있다.\n"
   ]
  },
  {
   "cell_type": "code",
   "execution_count": 138,
   "metadata": {},
   "outputs": [],
   "source": [
    "import re\n",
    "EMAIL_FORMAT = re.compile(r\"[^@]+@[^@]+[^@]+\")\n",
    "\n",
    "def is_valid_email(potentially_valid_email: str):\n",
    "    return re.match(EMAIL_FORMAT, potentially_valid_email) is not None\n",
    "\n",
    "class User:\n",
    "    def __init__(self,username):\n",
    "        self.username = username\n",
    "        self._email = None\n",
    "@property\n",
    "def email(self):\n",
    "    return self._email\n",
    "@email.setter\n",
    "def email(self, new_email):\n",
    "    if not is_valid_email(new_email):\n",
    "        raise ValueError(f\"유효한 이메일이 아니므로 {new_email} 값을 사용할 수 없음\")\n",
    "    self._email = new_email"
   ]
  },
  {
   "cell_type": "code",
   "execution_count": 139,
   "metadata": {},
   "outputs": [],
   "source": [
    "u1 = User('john')"
   ]
  },
  {
   "cell_type": "code",
   "execution_count": 140,
   "metadata": {},
   "outputs": [],
   "source": [
    "u1.email = 'johndas'"
   ]
  },
  {
   "cell_type": "code",
   "execution_count": 142,
   "metadata": {},
   "outputs": [
    {
     "data": {
      "text/plain": [
       "'johndas'"
      ]
     },
     "execution_count": 142,
     "metadata": {},
     "output_type": "execute_result"
    }
   ],
   "source": [
    "u1.email"
   ]
  },
  {
   "cell_type": "markdown",
   "metadata": {},
   "source": [
    "- 잠점: @property는 private 속성인 email값을 반환한다.\n",
    "- 객체의 모든 속성에 대해 get_, set_ 메서드를 작성할 필요가 없다. 대부분의 경우 일반 속성을 사용하는 것으로 충반하다. 속성 값을 가져오거나 수정할 때 특별한 로직이 필요한 경우에만 프로퍼티를 사용하자.\n",
    "- 명령-쿼리 분리 원칙 (command and query separation)을 따르기 위한 좋은 방법이다. \n",
    "    - 객체의 메서드가 무언가의 상태를 변경하는 커맨드이거나 무언가의 값을 반환하는 쿼리이거나 둘 중에 하나만 수행해야지 둘 다 동시에 수행하면 안된다는 것이다.\n",
    "- @property 데코레이터는 무언가에 응답하기 위한 쿼리이고, @<property_name>.setter는 무언가를 하기 위한 커맨드이다.\n",
    "- 하나의 메서드에서 한 가지 이상의 일을 하지 말아야 한다. 무언가를 할당하고 유효성 검사를 하고 싶으면 두개 이상의 문장으로 나누어야 한다."
   ]
  },
  {
   "cell_type": "code",
   "execution_count": null,
   "metadata": {},
   "outputs": [],
   "source": []
  }
 ],
 "metadata": {
  "kernelspec": {
   "display_name": "spark",
   "language": "python",
   "name": "spark"
  },
  "language_info": {
   "codemirror_mode": {
    "name": "ipython",
    "version": 3
   },
   "file_extension": ".py",
   "mimetype": "text/x-python",
   "name": "python",
   "nbconvert_exporter": "python",
   "pygments_lexer": "ipython3",
   "version": "3.6.9"
  }
 },
 "nbformat": 4,
 "nbformat_minor": 4
}
