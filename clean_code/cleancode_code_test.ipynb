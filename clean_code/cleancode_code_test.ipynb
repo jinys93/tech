{
 "cells": [
  {
   "cell_type": "markdown",
   "metadata": {},
   "source": [
    "CLEAN CODE python"
   ]
  },
  {
   "cell_type": "markdown",
   "metadata": {},
   "source": [
    "## Chapter 1.소개, 코드 포매팅과 도구"
   ]
  },
  {
   "cell_type": "markdown",
   "metadata": {},
   "source": [
    "클린코드의 의미\n",
    "- 프로그래밍 언어의 진정한 의미는 아이디어를 다른 개발자에게 전달하는 것\n",
    "    - 우리는 코드를 작성하는 것보다 읽는데 훨씬 더 많은 시간을 소비함.\n",
    "- 중요성\n",
    "    - 유지보수성 향상\n",
    "    - 기술 부채의 감소\n",
    "    - 애자일 개발을 통한 효과적인 작업 진행\n",
    "    - 성공적인 프로젝트 관리\n",
    "- 좋은 코드 레이어아웃\n",
    "    - 일관성 -> 가독성이 높아지고 이해하기 쉬워짐"
   ]
  },
  {
   "cell_type": "markdown",
   "metadata": {},
   "source": [
    "훌륭한 코드는 그 자체로 자명하지만 문서화 또한 잘 되어 있다. 주석을 추가하는 것과는 다르다. 문서화를 통해 데이터 타입이 무엇인지를 설명하고 예제를 제공할 수 있다.\n",
    "- Docstring\n",
    "   - 소스 코드에 포함된 문서(documnention)이다. 기본적으로 리터럴 문자열이다.\n",
    "   - 이유가 아니라 설명이다.\n",
    "   - 코드의 특정 component(module, class, method or function)에 대한 문서화다. 이런 컴포넌트에 사용하는 것은 허용될 뿐 아니라 권장되는 부분이다. 가능한 많은 docstring을 추가하는 것이 좋다.\n",
    "       - 동적 타이핑 언어이므로 변수가 어떤 데이터 타입인지 강요를 하지 않는다. \n",
    "       - 예상되는 함수의 입력과 출력을 문서화하면 사용자가 사용할 때 함수가 어떻게 동작하는지 이해하기 쉽다.\n",
    "   - 모든 팀원이 문서화에 참여할 수 있어야 한다. 단점은 지속적인 수작업이다. \n",
    "       - 적절한 문서를 유지하는 것은 소프트웨어 엔지니어링에서 피할 수 없는 과제이다. 문서화에 수작업이 필요한 이유는 결국은 다른 사람이 읽기 때문\n",
    "   - 주석의 단점\n",
    "       - 코드로 아이디어를 제대로 표현하지 못했음을 나타냄.\n",
    "       - 오해의 소지가 있다. 복잡한 코드를 이해하기 위해 시간을 할애하는것 보다 최악은 코드가 어떻게 동작하는지 주석을 확인한 후 실제로 동작하는 것의 다른점을 파악하는것.\n",
    "       - 사람들은 코드를 변경할 때 주석 업데이트를 깜빡하는 경우가 많다. 방금 수정한 코드 근처의 주석이 현재와 일치하지 않을 경우 또 다른 위험을 초래\n",
    "- Annotation\n",
    "    - 기본 아이디어: 코드 사용자에게 함수 인자로 어떤 값이 와야 하는지 힌트를 주는 것. 변수의 예상 타입을 지정할 수 있다.\n",
    "    - 파이썬은 동적으로 타입을 결정하기 때문에 함수를 메서드를 거치면 변수나 객체의 값이 무엇인지 알기 어려운 경우가 많음. 어노테이션을 통해 이러한 정보를 명시하면 향후 개발에 도움이 됨. (python은 타입을 강제하지 않는다.)"
   ]
  },
  {
   "cell_type": "markdown",
   "metadata": {},
   "source": [
    "#### Docstring example"
   ]
  },
  {
   "cell_type": "code",
   "execution_count": 1,
   "metadata": {},
   "outputs": [],
   "source": [
    "def my_function(x):\n",
    "    '''3*x'''\n",
    "    return 3*x"
   ]
  },
  {
   "cell_type": "code",
   "execution_count": 3,
   "metadata": {},
   "outputs": [
    {
     "data": {
      "text/plain": [
       "'3*x'"
      ]
     },
     "execution_count": 3,
     "metadata": {},
     "output_type": "execute_result"
    }
   ],
   "source": [
    "my_function.__doc__"
   ]
  },
  {
   "cell_type": "code",
   "execution_count": 9,
   "metadata": {},
   "outputs": [],
   "source": [
    "class Point:\n",
    "    def __init__(self, lat, long):\n",
    "        self.lat = lat\n",
    "        self.long = long\n",
    "\n",
    "def locate(latitute: float, longititue: float) -> Point:\n",
    "    '''맵에서 좌표에 해당하는 객체를 검색'''\n"
   ]
  },
  {
   "cell_type": "code",
   "execution_count": 15,
   "metadata": {},
   "outputs": [
    {
     "data": {
      "text/plain": [
       "{'latitute': float, 'longititue': float, 'return': __main__.Point}"
      ]
     },
     "execution_count": 15,
     "metadata": {},
     "output_type": "execute_result"
    }
   ],
   "source": [
    "locate.__annotations__"
   ]
  },
  {
   "cell_type": "markdown",
   "metadata": {},
   "source": [
    "이 정보를 사용하여 문서 생성, 유효성 검증 또는 타입 체크를 할 수 있다.\n"
   ]
  },
  {
   "cell_type": "code",
   "execution_count": 16,
   "metadata": {},
   "outputs": [],
   "source": [
    "#python 3.6 >\n",
    "class Point:\n",
    "    lat : float\n",
    "    long : float\n",
    "    def __init__(self, lat, long):\n",
    "        self.lat = lat\n",
    "        self.long = long"
   ]
  },
  {
   "cell_type": "code",
   "execution_count": 17,
   "metadata": {},
   "outputs": [
    {
     "data": {
      "text/plain": [
       "{'lat': float, 'long': float}"
      ]
     },
     "execution_count": 17,
     "metadata": {},
     "output_type": "execute_result"
    }
   ],
   "source": [
    "Point.__annotations__"
   ]
  },
  {
   "cell_type": "markdown",
   "metadata": {},
   "source": [
    "#### annotation은 docstring을 대체하는 것일까?\n",
    "- docstring과 annotation은 서로 보와적인 개념이다.\n",
    "- 하지만, docstring을 통해 보다 나은 문서화를 위한 여지를 남겨두어야 한다.\n",
    "- 특히, 동적 데이터 타입과 중첩 데이터 타입의 경우 예상 데이터의 예제를 제공하여 어떤 형태의 데이터를 다루는지 제공하는 것이 좋다.\n"
   ]
  },
  {
   "cell_type": "code",
   "execution_count": 18,
   "metadata": {},
   "outputs": [],
   "source": [
    "def data_from_response(response: dict)->dict:\n",
    "    if response[\"status\"] != 200:\n",
    "        raise ValueError\n",
    "    return {\"data\": response['payload']}\n",
    "# 명확히 알 수 없다."
   ]
  },
  {
   "cell_type": "code",
   "execution_count": 19,
   "metadata": {},
   "outputs": [],
   "source": [
    "def data_from_response(response: dict)->dict:\n",
    "    '''response에 문제가 없다면 response의 payload를 반환\n",
    "    \n",
    "    - response 사전의 예제:\n",
    "    {\n",
    "        \"status\": 200, # <int>\n",
    "        \"timestamp\": \"...\", # 현재 시간의 ISO 포맷 문자역\n",
    "        \"payload\": {...} # 반환하려는 사전 데이터\n",
    "    }\n",
    "    - 반환 사전 값의 예제:\n",
    "    {'data':{..}}\n",
    "    - 발생 가능한 예외:\n",
    "    - HTTP status가 200이 아닌 경우 ValueError 발생\n",
    "    '''\n",
    "    if response[\"status\"] != 200:\n",
    "        raise ValueError\n",
    "    return {\"data\": response['payload']}\n"
   ]
  },
  {
   "cell_type": "markdown",
   "metadata": {},
   "source": [
    "- 이 문서는 입출력 값을 더 잘 이해하기 위해서 뿐아니라 단위 테스트에서도 유용한 정보로 사용된다.\n",
    "- 이러한 docstring을 사용했을 때의 이슈는 코드가 좀 더 커지게 되고, 실제 효과적인 문서가 되려면 보다 상세한 정보가 필요함."
   ]
  },
  {
   "cell_type": "markdown",
   "metadata": {},
   "source": [
    "### 기본 품질 향상을 위한 도구 설정\n",
    "- 반복적인 확인 작업을 줄이기 위해 코드 검사를 자동 실행하는 기본 도구를 설정\n",
    "- 코드는 사람이 이해하기 위한 것이므로 좋은 코드인지 나쁜 코드인지 판단할 수 있는 것도 오직 사람\n",
    "- 개발자는 코드 리뷰에 시간을 투자하고, 훌륭한 코드가 무엇인지, 얼마나 읽기 쉽고 이해하기 쉬운 코디인지에 대해 고민해야함.\n",
    "- 동료의 코드에 다음과 같은 질문을 할 수 있어야함\n",
    "    - 이 코드를 동료 개발자가 쉽게 이해하고 따라갈 수 있을까?\n",
    "    - 업무 도메인에 대해서 말하고 있는가?\n",
    "    - 팀에 새로 합류하는 사람도 쉽게 이해하고 효과적으로 작업할 수 있을까?\n",
    "- 이 모든 검사는 자동화해야 한다. 테스트 또는 체크리스트의 일부가 되어 지속적인 통합 빌드의 하나가 되어야한다. 이러한 검사에 실패하면 빌드도 실패해야 한다. \n",
    "#### 도구\n",
    "- mypy를 사용한 타입 힌팅\n",
    "    - mypy {파일명}을 입력하면 타입 검사 결과를 제공함.\n",
    "    - 하지만 가끔 잘못된 탐지를 하는 경우\n",
    "        - type_to_ignore = \"something\" # type: ignore\n",
    "- pylint를 사용한 검사\n",
    "    - 코드의 구조를 검사하는 도구.\n",
    "    - .pylintrc파일을 통해 설정 값을 바꿀 수 있다.\n",
    "        - 규칙 활성화 또는 비활성화 가능\n",
    "- 자동 검사 설정\n",
    "    - 리눅스 개발환경에서 빌드를 자동화하는 가장 일반적인 방법: makefile\n",
    "    - 빌드이외에도 포매팅 검사나 코딩 컨벤션 검사를 자동화하기 위해 사용할 수 있다.\n",
    "    - 테스트를 위한 각각의 target을 만들고, 이것들을 모두 실행하는 또 다른 target을 만드는 것이다.\n",
    "typelint:  \n",
    "mypy src/ tests/  \n",
    "\n",
    "test:  \n",
    "pytest tests/  \n",
    "\n",
    "lint:  \n",
    "pylint src/ tests/\n",
    "\n",
    "checklist: lint typehint test  \n",
    "\n",
    ".PHONY: typehint test lint checklist  \n",
    "\n",
    "\n",
    "make chechlist는  \n",
    "1. 코드 가이드라인 검사 (예를들면 PEP-8)  \n",
    "2. 올바른 타입을 사용했는지 검사\n",
    "3. 최종적으로 테스트 실행  "
   ]
  },
  {
   "cell_type": "markdown",
   "metadata": {},
   "source": [
    "## Chapter2. Pythonic 코드"
   ]
  },
  {
   "cell_type": "markdown",
   "metadata": {},
   "source": [
    "- 프로그래밍에서 관용구(idiom)은 특정 작업을 수행하기 위해 코드를 작성하는 특별한 방식임. (디자인 패턴과는 다름)\n",
    "    - 차이점은 특정 작업을 할때 디자인 패턴은 고차원의 개념으로 즉시 코드로 변하지 않으나, 관용구는 즉시 코드로 변환\n",
    "- 파이썬스러운 것: Pythomic\n",
    "- 관용적인 방식으로 코드를 작성했을 때\n",
    "    - 일반적으로 더 나은 선능\n",
    "    - 코드도 더 작고 이해하기 쉽다\n",
    "    - 전체 개발팀이 동일한 패턴과 구조에 익숙해지면 실수를 줄이고 문제의 본질에 보다 집중할 수 있다\n",
    "\n",
    "#### 이장의 목표\n",
    "1. 인덱스와 슬라이스를 이해하고 인덱싱 가능한 객체를 올바른 방식으로 구현\n",
    "2. 시퀀스와 이터러블 구현\n",
    "3. 컨텍스트 관리자를 만드는 모범 사례 연구\n",
    "4. 매직 메서드를 사용해 보다 관용적이 코드 구현\n",
    "5. 파이썬에서 부작용을 유발하는 흔한 실수 피하기\n"
   ]
  },
  {
   "cell_type": "markdown",
   "metadata": {},
   "source": [
    "#### Contest manager\n",
    "- 주요 동작의 전후에 작업을 실행하려고 할 때 유용하다.\n",
    "    - 파일을 열면 닫어야한다. 소켓에 대해서도 (리소스 해제)\n",
    "    - 예외 발생이거나 오류 처리할때는 어렵다.\n",
    " "
   ]
  },
  {
   "cell_type": "code",
   "execution_count": null,
   "metadata": {},
   "outputs": [],
   "source": [
    "fd = open(filename)\n",
    "try:\n",
    "    process_file(fd)\n",
    "finally:\n",
    "    fd.close()\n",
    "###Pythonic style\n",
    "\n",
    "with open(filename) as fd:\n",
    "    process_file(fd)\n"
   ]
  },
  {
   "cell_type": "markdown",
   "metadata": {},
   "source": [
    "- with 문(PEP-343)은 컨텍스트 관리자로 진입하게 한다. 이 경우 open 함수는 컨텍스트 관리자 프로토콜을 구현한다. 즉, 예외가 발생한 경우에도 블록이 완료되면 파일이 자동으로 닫힌다.\n",
    "- 컨텍스트 관리자는 __enter__와 __exit__ 두개의 매직 메서드로 구성된다. with 문은 __enter__ 메서드를 호출하고 이 메서드가 무엇을 반환하든 as 이후에 지정된 변수에 할당된다. 사실 __enter__ 메서드가 특정한 값을 반환할 필요는 없다. 설사 값을 반환한다 하더라도 필요하지 않으면 변수에 할당하지 않아도 된다.\n",
    "- 컨텍스트 관리자 블록 내에 예외 또는 오류가 있는 경우에도 __exit__메서드는 블록에서 예외가 발생한 경우 해당 예외를 파라미터로 받기 때문에 임의의 방법으로 처리할 수 있다.\n",
    "- 컨텍스트 관리자가 파일이나 커넥션 등의 리소스 관리에서 매우 자주 사용되기는 하지만, 오직 이런 분야에서만 사용 가능한 것은 아니다. 블록의 전후에 필요로 하는 특정 논리를 제공하기 위해 자체 컨텍스트 관리자를 구현할 수 있다.\n"
   ]
  },
  {
   "cell_type": "code",
   "execution_count": 20,
   "metadata": {},
   "outputs": [],
   "source": [
    "def stop_database():\n",
    "    run('systemtl stop postgresql.service')\n",
    "\n",
    "def start_database():\n",
    "    run('systemtl start postgresqp.service')\n",
    "\n",
    "class DBHandler:\n",
    "    def __enter__(self):\n",
    "        stop_database()\n",
    "    \n",
    "    def __exit__(self, exc_type, ex_value, ex_traceback):\n",
    "        start_database()\n",
    "def db_backup():\n",
    "    run(\"pg_dump database\")\n",
    "\n",
    "def main():\n",
    "    with DBHandeler():\n",
    "        db_backup()"
   ]
  },
  {
   "cell_type": "code",
   "execution_count": 22,
   "metadata": {},
   "outputs": [],
   "source": [
    "import contextlib\n",
    "\n",
    "@contextlib.contextmanager\n",
    "def db_handler():\n",
    "    stop_database()\n",
    "    yield\n",
    "    start_database()\n",
    "\n",
    "with db_handler():\n",
    "    db_backup()"
   ]
  },
  {
   "cell_type": "markdown",
   "metadata": {},
   "source": [
    "이렇게 컨텍스트 매니저를 작성하면 기존 함수를 리팩토링하기 쉬운 장점이 있다. 일반적으로 어느 특정 객체에도 속하지 않은 컨텍스트 관리자가 필요한 경우 좋은 방법이다. 매직 메서드를 추가하면 업무 도메인에 보다 얽히게 되며, 책임이 커지고. 어쩌면 하지 않아도 될 것들을 지원해야만 한다. 많은 상태를 관리할 필요가 없고 다른 클래스와 독립되어 있는 컨테스트 관리자 함수를 만드는 경우는 이렇게 하는 것이 좋은 방법이다.\n"
   ]
  },
  {
   "cell_type": "code",
   "execution_count": null,
   "metadata": {},
   "outputs": [],
   "source": [
    "class dbhandler__decorator(contextlib.ContextDecorator):\n",
    "    def __enter__(self):\n",
    "        stop_database()\n",
    "    def __exit(self, ext_type, ex_value, ex_traceback):\n",
    "        start_database()\n",
    "\n",
    "@dbhandler_decorator()\n",
    "def offline_backup():\n",
    "    run(\"pg_dump database\")"
   ]
  },
  {
   "cell_type": "markdown",
   "metadata": {},
   "source": [
    "- 이쪽은 웹 백앤드를 할때 유용하게 사용될 것 같다."
   ]
  },
  {
   "cell_type": "markdown",
   "metadata": {},
   "source": [
    "### 프로퍼티, 속성과 객체 메서드의 다른 타입들\n",
    "- 기본적으로 모두 public이다.\n",
    "- 밑줄로 시작되는 속상은 해당 객체에 대해 Private을 의미함 (외부에서 호출하지 ㅇ낳기를 기대)\n",
    "\n",
    "파이썬에서의 밑줄  \n",
    "- 객체는 외부 호출 객체와 관련된 속성과 메서드만을 노출해야 한다. 즉 객체의 인터페이스로 공개하는 용도가 아니라면 모든 멤버에는 접두사로 하나의 밑줄을 사용하는 것이 좋다.\n",
    "- __두개를 사용하면 private이 아니라 AttributeError가 발생한다. 프라이빗이라 접근할 수 없다가 아니라 존재하지 않는다라고 반환함. 이것은 실제로 뭔가 다른 일이 벌여졌으며 부작용에 의한 결과로 생긴 것으로 암시\n",
    "- 밑줄 두개는 실제 파이썬에서 다른 이름을 만든다. name mangling이라 한다. 이것이 하는 일은 다음과 같은 이름의 속성을 만드는 것이다. \n",
    "    - \"_<class_name>__<attribute-name>'의 경우 '_Connector__doubleline'이라는 속성이 만들어 지며 이러한 속성은 다음과 같이 접근하여 수정이 가능하다.\n",
    "    - 즉, private의 의미로 만들어진 것이 아니다.\n",
    "    - 여러 번 확장되는 클래스의 메서드를 이름 충돌 없이 오버라이드하기 위해 만들어졌다. \n",
    "    - 의도한 것이 아니라면 이중 밑줄을 사용하지 말자."
   ]
  },
  {
   "cell_type": "code",
   "execution_count": 26,
   "metadata": {},
   "outputs": [
    {
     "name": "stdout",
     "output_type": "stream",
     "text": [
      "test1\n",
      "60\n",
      "120\n"
     ]
    },
    {
     "ename": "AttributeError",
     "evalue": "'Connector' object has no attribute '__doubleline'",
     "output_type": "error",
     "traceback": [
      "\u001b[0;31m---------------------------------------------------------------------------\u001b[0m",
      "\u001b[0;31mAttributeError\u001b[0m                            Traceback (most recent call last)",
      "\u001b[0;32m<ipython-input-26-fb7d1f72bc4a>\u001b[0m in \u001b[0;36m<module>\u001b[0;34m\u001b[0m\n\u001b[1;32m      8\u001b[0m \u001b[0mprint\u001b[0m\u001b[0;34m(\u001b[0m\u001b[0mconn\u001b[0m\u001b[0;34m.\u001b[0m\u001b[0m_timeout\u001b[0m\u001b[0;34m)\u001b[0m\u001b[0;34m\u001b[0m\u001b[0;34m\u001b[0m\u001b[0m\n\u001b[1;32m      9\u001b[0m \u001b[0mprint\u001b[0m\u001b[0;34m(\u001b[0m\u001b[0mconn\u001b[0m\u001b[0;34m.\u001b[0m\u001b[0m_Connector__doubleline\u001b[0m\u001b[0;34m)\u001b[0m\u001b[0;34m\u001b[0m\u001b[0;34m\u001b[0m\u001b[0m\n\u001b[0;32m---> 10\u001b[0;31m \u001b[0mprint\u001b[0m\u001b[0;34m(\u001b[0m\u001b[0mconn\u001b[0m\u001b[0;34m.\u001b[0m\u001b[0m__doubleline\u001b[0m\u001b[0;34m)\u001b[0m\u001b[0;34m\u001b[0m\u001b[0;34m\u001b[0m\u001b[0m\n\u001b[0m",
      "\u001b[0;31mAttributeError\u001b[0m: 'Connector' object has no attribute '__doubleline'"
     ]
    }
   ],
   "source": [
    "class Connector:\n",
    "    def __init__(self, source):\n",
    "        self.source = source\n",
    "        self._timeout = 60\n",
    "        self.__doubleline = 120\n",
    "conn = Connector('test1')\n",
    "print(conn.source)\n",
    "print(conn._timeout)\n",
    "print(conn._Connector__doubleline)\n",
    "print(conn.__doubleline)"
   ]
  },
  {
   "cell_type": "markdown",
   "metadata": {},
   "source": [
    "#### 프로퍼티  \n",
    "- 객체에 값을 저장해야 할 경우 일반적인 속성(attribute)을 사용할 수 있다. 때로는 객체의 상태나 다른 속성의 값을 기반으로 어떤 계산을 하려고 할 때도 있다. 이런 경우 대부분 프로퍼티를 사용하는 것이 좋은 선택이다.\n",
    "- 프로퍼티는 객체의 어떤 속성에 대한 접근을 제어하려는 경우 사용함.\n",
    "- 이렇게 하는 것 또한 파이썬스러운 코드다.\n",
    "- 자바와 같은 다른 프로그래밍 언어에서는 접근 메서드(getter, setter)를 만들지만 파이썬에서는 property를 사용할 수 있다.\n"
   ]
  },
  {
   "cell_type": "code",
   "execution_count": 191,
   "metadata": {},
   "outputs": [],
   "source": [
    "import re\n",
    "EMAIL_FORMAT = re.compile(r\"[^@]+@[^@]+[^@]+\")\n",
    "\n",
    "def is_valid_email(potentially_valid_email: str):\n",
    "    return re.match(EMAIL_FORMAT, potentially_valid_email) is not None\n",
    "\n",
    "class User:\n",
    "    def __init__(self,username):\n",
    "        self.username = username\n",
    "        self._email = None\n",
    "@property\n",
    "def email(self):\n",
    "    return self._email\n",
    "\n",
    "@email.setter\n",
    "def email(self, new_email):\n",
    "    print(new_email)\n",
    "    if not is_valid_email(new_email):\n",
    "        raise ValueError(f\"유효한 이메일이 아니므로 {new_email} 값을 사용할 수 없음\")\n",
    "    self._email = new_email\n"
   ]
  },
  {
   "cell_type": "code",
   "execution_count": 183,
   "metadata": {},
   "outputs": [],
   "source": [
    "u1 = User('john')"
   ]
  },
  {
   "cell_type": "code",
   "execution_count": 181,
   "metadata": {},
   "outputs": [],
   "source": [
    "u1.email = 'aaa'"
   ]
  },
  {
   "cell_type": "code",
   "execution_count": 195,
   "metadata": {},
   "outputs": [
    {
     "data": {
      "text/plain": [
       "'aaa@unist.ac.kr'"
      ]
     },
     "execution_count": 195,
     "metadata": {},
     "output_type": "execute_result"
    }
   ],
   "source": [
    "u1.email"
   ]
  },
  {
   "cell_type": "code",
   "execution_count": 184,
   "metadata": {},
   "outputs": [],
   "source": [
    "u1.email = 'aaa@unist.ac.kr'"
   ]
  },
  {
   "cell_type": "code",
   "execution_count": 185,
   "metadata": {},
   "outputs": [
    {
     "data": {
      "text/plain": [
       "'aaa@unist.ac.kr'"
      ]
     },
     "execution_count": 185,
     "metadata": {},
     "output_type": "execute_result"
    }
   ],
   "source": [
    "u1.email"
   ]
  },
  {
   "cell_type": "markdown",
   "metadata": {},
   "source": [
    "- 잠점: @property는 private 속성인 email값을 반환한다.\n",
    "- 객체의 모든 속성에 대해 get_, set_ 메서드를 작성할 필요가 없다. 대부분의 경우 일반 속성을 사용하는 것으로 충반하다. 속성 값을 가져오거나 수정할 때 특별한 로직이 필요한 경우에만 프로퍼티를 사용하자.\n",
    "- 명령-쿼리 분리 원칙 (command and query separation)을 따르기 위한 좋은 방법이다. \n",
    "    - 객체의 메서드가 무언가의 상태를 변경하는 커맨드이거나 무언가의 값을 반환하는 쿼리이거나 둘 중에 하나만 수행해야지 둘 다 동시에 수행하면 안된다는 것이다.\n",
    "- @property 데코레이터는 무언가에 응답하기 위한 쿼리이고, @<property_name>.setter는 무언가를 하기 위한 커맨드이다.\n",
    "- 하나의 메서드에서 한 가지 이상의 일을 하지 말아야 한다. 무언가를 할당하고 유효성 검사를 하고 싶으면 두개 이상의 문장으로 나누어야 한다."
   ]
  },
  {
   "cell_type": "code",
   "execution_count": null,
   "metadata": {},
   "outputs": [],
   "source": []
  },
  {
   "cell_type": "markdown",
   "metadata": {},
   "source": [
    "## Chapter 3 좋은 코드의 일반적인 특성"
   ]
  },
  {
   "cell_type": "markdown",
   "metadata": {},
   "source": [
    "- 궁극적인 목표는 코드를 가능한 견고하고 결함을 최소화하고 완정히 자명하도록 하는 것이다.\n",
    "- 고품질 코드는 다차원의 개념을 갖는다. 안전하고 고성능이며 유지보수성이 좋다는 것을 기대한다.\n",
    "    - 견고한 소프트웨어의 개념을 이해\n",
    "    - 작업 중 잘못된 데이터를 다루는 방법\n",
    "    - 새로운 요구 사항을 쉽게 받아들이고 확장할 수 있는 유지보수가 쉬운 소프트웨어 설계\n",
    "    - 재사용 가능한 소프트웨어 설계\n",
    "    - 개발팀의 생산성을 높이는 효율적인 코드 작성"
   ]
  },
  {
   "cell_type": "markdown",
   "metadata": {},
   "source": [
    "#### 계약에 의한 디자인\n",
    "컴포넌트는 기능을 숨겨 캡슐화하고 함수를 사용할 고객에게는 애플리케이션 프로그래밍 인터페이스(API)를 노출해야 한다. 컴포넌트의 함수, 클래스, 매서드는 특별한 유의사항에 따라 동작해야 하며, 그렇지 않을 경우 코드가 깨지게 된다. 반대로 코드를 호출하는 클라이언트는 특정 응답을 기대하며 이것과 다른 경우 함수 호출에 실패하고 결함이 발생한다.\n",
    "- API를 작성할때는 예상되는 입력, 출력 및 부작용을 문서화해야 한다. 그러나 문서화가 런타임 시의 소프트웨어의 동작까지 강제할 수는 없다. 이러한 규칙, 즉 코드가 정상적으로 동작하기 위해 기대하는 것과 호출자가 반환 받기를 기대하는 것은 디자인의 하나가 되어야 한다. contract라는 개념이 생긴다.\n",
    "- Design by contract는 관계자가 기대하는 바를 암묵적으로 코드에 삽입하는 대신 양측이 동의하는 계약을 먼저 한 다음, 계약을 어겼을 경우에는 명시적으로 왜 계속할 수 없는지 예외를 발생시키라는 것이다.\n",
    "- contract는 소프트웨어 컴포넌트 간의 통신 중에 반드시 지켜져야 할 몇 가지 규칙을 강제하는 것이다. 계약은 주로 사전조건과 사후조건을 명시하지만 때로는 불변식과 부작용을 기술한다.\n",
    "    - 사전 조건(precondition): 코드가 실행되기 전에 체크해야할 것들이다. 함수가 진행되기 전에 처리되어야 하는 모든 조건을 체크한다. 일반적으로 파라미터에 제공된 데이터의 유효성을 검사하지만 유효성 체크를 통해 부작용이 최소화된다는 점을 고려할 때 유효성 검사를 많이 하는 것이 좋다. 예를 들어 데이터베이스, 파일, 이전에 호출된 다른 메서드의 검사 등이다. 이러한 작업은 호출자에게 부과된 임무이다.\n",
    "    - 사후 조건(postcondition): 사전조건과 반대로 여기서는 함수 반환 값의 유효성 검사가 수행된다. 사후 조건 검증은 호출자가 이 컴포넌트에서 기대한 것을 제대로 받았는지 확인하기 위해 수행한다.\n",
    "    - 불변식(invariant): 때로는 함수의 docstring에 불변식에 대해 문서화하는 것이 좋다. 불변식은 함수가 실행되는 동안에 일정하게 유지되는 것으로 함수의 로직에 문제가 없는지 확인하기 위한 것이다.\n",
    "    - 부작용(side-effect): 선택적으로 코드의 부작용을 docstring에 언급하기도 한다.\n",
    "    - * 이상적으로는 모두 작성해야하지만 precondition, postcondition 부터 작성한다.\n",
    "    - 이렇게 계약을 하는 이유는 오류가 발생할 때 쉽게 찾아낼 수 있기 때문이다. 더 중요한 것은 잘못된 가정하에 코드의 핵심 부분이 실행되는 것을 방지하기 위해서이다. \n",
    "    - 사전조건은 클라이언트과 연관 / 사후조건은 컴포넌트와 연관 --> 책임소재를 신속하게 파악할 수 있다. "
   ]
  },
  {
   "cell_type": "markdown",
   "metadata": {},
   "source": [
    "#### precondition\n",
    "- 함수나 메서드가 제대로 동작하기 위해 보장해야하는 모든 것을 말한다.\n",
    "- 적절한 데이터를 전달하는 것이다. 예를들면 초기화된 객체, null이 아닌 값등의 조건이다.\n",
    "- 특히, 파이썬은 동적으로 타입이 결정되므로 전달된 데이터가 적절한 타입인지 확인하는 경우도 있다."
   ]
  },
  {
   "cell_type": "markdown",
   "metadata": {},
   "source": [
    "### postcondition\n",
    "- 메서드 또는 함수가 반환된 후의 상태를 강제하는 계약의 일부\n",
    "- 함수 또는 메서드가 적절한 속성으로 호출되었다면(사전 조건이 맞았을 경우) 사후조건은 특정 속성이 보존되도록 보장해야 한다.\n",
    "- 사후 조건을 사용하여 클라이언트가 필요로 하는 모든 것을 검사할 수 있다. "
   ]
  },
  {
   "cell_type": "markdown",
   "metadata": {},
   "source": [
    "### DBC의 결론\n",
    "- 문제가 있는 부분을 효과적으로 식별하는데 있다.\n",
    "- 이 원칙을 따르게 되면 코드가 더욱 견고해진다. \n",
    "- 프로그램의 구조를 명확히 하는 목적으로도 사용된다. "
   ]
  },
  {
   "cell_type": "markdown",
   "metadata": {},
   "source": [
    "일급 객체에 대한 설명\n",
    "- 함수를 변수로 받는다."
   ]
  },
  {
   "cell_type": "code",
   "execution_count": 196,
   "metadata": {},
   "outputs": [
    {
     "name": "stdout",
     "output_type": "stream",
     "text": [
      "[1, 4, 9, 16, 25]\n",
      "[1, 8, 27, 64, 125]\n",
      "[1, 16, 81, 256, 625]\n"
     ]
    }
   ],
   "source": [
    "# -*- coding: utf-8 -*-\n",
    "def square(x):\n",
    "    return x * x\n",
    "\n",
    "def cube(x):\n",
    "    return x * x * x\n",
    "\n",
    "def quad(x):\n",
    "    return x * x * x * x\n",
    "\n",
    "def my_map(func, arg_list):\n",
    "    result = []\n",
    "    for i in arg_list:\n",
    "        result.append(func(i)) # square 함수 호출, func == square\n",
    "    return result\n",
    "\n",
    "num_list = [1, 2, 3, 4, 5]\n",
    "\n",
    "squares = my_map(square, num_list)\n",
    "cubes = my_map(cube, num_list)\n",
    "quads = my_map(quad, num_list)\n",
    "\n",
    "print(squares)\n",
    "print(cubes)\n",
    "print(quads)"
   ]
  },
  {
   "cell_type": "markdown",
   "metadata": {},
   "source": [
    "closure에 대한 설명\n",
    "예외처리도 생각하면서 코드 구성하기"
   ]
  },
  {
   "cell_type": "code",
   "execution_count": 204,
   "metadata": {},
   "outputs": [
    {
     "name": "stdout",
     "output_type": "stream",
     "text": [
      "<function logger.<locals>.log_message at 0x7fd3ec40eea0>\n",
      "Log:  Hi\n",
      "NameError: logger는 존재하지 않습니다.\n",
      "Log:  Hi\n"
     ]
    }
   ],
   "source": [
    "# -*- coding: utf-8 -*-\n",
    "def logger(msg):\n",
    "    def log_message(): #1\n",
    "        print('Log: ', msg)\n",
    "    \n",
    "    return log_message\n",
    "\n",
    "log_hi = logger('Hi')\n",
    "print(log_hi) # log_message 오브젝트가 출력됩니다.\n",
    "log_hi() # \"Log: Hi\"가 출력됩니다.\n",
    "\n",
    "del logger # 글로벌 네임스페이스에서 logger 오브젝트를 지웁니다.\n",
    "\n",
    "# logger 오브젝트가 지워진 것을 확인합니다.\n",
    "try:\n",
    "    print(logger)\n",
    "except NameError:\n",
    "    print('NameError: logger는 존재하지 않습니다.')\n",
    "\n",
    "log_hi() # logger가 지워진 뒤에도 Log: Hi\"가 출력됩니다."
   ]
  },
  {
   "cell_type": "markdown",
   "metadata": {},
   "source": [
    "응용"
   ]
  },
  {
   "cell_type": "code",
   "execution_count": 212,
   "metadata": {},
   "outputs": [
    {
     "name": "stdout",
     "output_type": "stream",
     "text": [
      "<h1>심플 헤딩 타이틀<h1>\n",
      "------------------------------\n",
      "<function html_tag.<locals>.wrap_text at 0x7fd3ec3dfc80>\n",
      "<h1>첫 번째 헤딩 타이틀<h1>\n",
      "<h1>두 번째 헤딩 타이틀<h1>\n",
      "<p>이것은 패러그래프 입니다.<p>\n"
     ]
    }
   ],
   "source": [
    "def simple_html_tag(tag, msg):\n",
    "    print ('<{0}>{1}<{0}>'.format(tag, msg))\n",
    "    \n",
    "simple_html_tag('h1', '심플 헤딩 타이틀')\n",
    "\n",
    "print('-'*30)\n",
    "\n",
    "# 함수를 리턴하는 함수\n",
    "def html_tag(tag):\n",
    "    \n",
    "    def wrap_text(msg):\n",
    "        print (\"<{0}>{1}<{0}>\".format(tag, msg))\n",
    "        \n",
    "    return wrap_text\n",
    "\n",
    "print_h1 = html_tag('h1') #1\n",
    "print(print_h1) #2\n",
    "print_h1('첫 번째 헤딩 타이틀') #3\n",
    "print_h1('두 번째 헤딩 타이틀') #4\n",
    "\n",
    "print_p = html_tag('p')\n",
    "print_p('이것은 패러그래프 입니다.')"
   ]
  },
  {
   "cell_type": "markdown",
   "metadata": {},
   "source": [
    "Closure"
   ]
  },
  {
   "cell_type": "code",
   "execution_count": 217,
   "metadata": {},
   "outputs": [
    {
     "name": "stdout",
     "output_type": "stream",
     "text": [
      "Hi\n"
     ]
    }
   ],
   "source": [
    "def outer_func(): #1\n",
    "    message = 'Hi' #3\n",
    "\n",
    "    def inner_func(): #4\n",
    "        print(message) #6 \n",
    "    return inner_func() #5\n",
    "\n",
    "outer_func() #2"
   ]
  },
  {
   "cell_type": "code",
   "execution_count": 224,
   "metadata": {},
   "outputs": [
    {
     "name": "stdout",
     "output_type": "stream",
     "text": [
      "Hi\n",
      "Hi\n",
      "Hi\n"
     ]
    }
   ],
   "source": [
    "# -*- coding: utf-8 -*-\n",
    "\n",
    "def outer_func(): #1\n",
    "    message = 'Hi' #3\n",
    "    def inner_func(): #4\n",
    "        print(message) #6\n",
    "\n",
    "    return inner_func #5\n",
    "\n",
    "my_func = outer_func() #2\n",
    "\n",
    "my_func() #7\n",
    "my_func() #8\n",
    "my_func() #9"
   ]
  },
  {
   "cell_type": "markdown",
   "metadata": {},
   "source": [
    "Decorator"
   ]
  },
  {
   "cell_type": "code",
   "execution_count": 226,
   "metadata": {},
   "outputs": [
    {
     "name": "stdout",
     "output_type": "stream",
     "text": [
      "display 함수가 실행됐습니다.\n"
     ]
    }
   ],
   "source": [
    "def decorator_function(original_function):  #1\n",
    "    def wrapper_function():  #5\n",
    "        return original_function()  #7\n",
    "    return wrapper_function  #6\n",
    "\n",
    "\n",
    "def display():  #2\n",
    "    print('display 함수가 실행됐습니다.')  #8\n",
    "\n",
    "decorated_display = decorator_function(display)  #3\n",
    "decorated_display()  #4"
   ]
  },
  {
   "cell_type": "code",
   "execution_count": 227,
   "metadata": {},
   "outputs": [
    {
     "name": "stdout",
     "output_type": "stream",
     "text": [
      "display_1 함수가 호출되기전 입니다.\n",
      "display_1 함수가 실행됐습니다.\n",
      " \n",
      "display_2 함수가 호출되기전 입니다.\n",
      "display_2 함수가 실행됐습니다.\n"
     ]
    }
   ],
   "source": [
    "# -*- coding: utf-8 -*-\n",
    "def decorator_function(original_function):\n",
    "    def wrapper_function():\n",
    "        print('{} 함수가 호출되기전 입니다.'.format(original_function.__name__))\n",
    "        return original_function()\n",
    "    return wrapper_function\n",
    "\n",
    "\n",
    "def display_1():\n",
    "    print('display_1 함수가 실행됐습니다.')\n",
    "\n",
    "\n",
    "def display_2():\n",
    "    print('display_2 함수가 실행됐습니다.')\n",
    "\n",
    "display_1 = decorator_function(display_1)  #1\n",
    "display_2 = decorator_function(display_2)  #2\n",
    "\n",
    "display_1()\n",
    "print(' ')\n",
    "display_2()"
   ]
  },
  {
   "cell_type": "code",
   "execution_count": 228,
   "metadata": {},
   "outputs": [
    {
     "name": "stdout",
     "output_type": "stream",
     "text": [
      "display_1 함수가 호출되기전 입니다.\n",
      "display_1 함수가 실행됐습니다.\n",
      "display_2 함수가 호출되기전 입니다.\n",
      "display_2 함수가 실행됐습니다.\n"
     ]
    }
   ],
   "source": [
    "# -*- coding: utf-8 -*-\n",
    "def decorator_function(original_function):\n",
    "    def wrapper_function():\n",
    "        print('{} 함수가 호출되기전 입니다.'.format(original_function.__name__))\n",
    "        return original_function()\n",
    "    return wrapper_function\n",
    "\n",
    "\n",
    "@decorator_function  #1\n",
    "def display_1():\n",
    "    print('display_1 함수가 실행됐습니다.')\n",
    "\n",
    "\n",
    "@decorator_function  #2\n",
    "def display_2():\n",
    "    print('display_2 함수가 실행됐습니다.')\n",
    "\n",
    "# display_1 = decorator_function(display_1)  #3\n",
    "# display_2 = decorator_function(display_2)  #4\n",
    "\n",
    "display_1()\n",
    "print\n",
    "display_2()"
   ]
  },
  {
   "cell_type": "code",
   "execution_count": 229,
   "metadata": {},
   "outputs": [
    {
     "name": "stdout",
     "output_type": "stream",
     "text": [
      "display 함수가 호출되기전 입니다.\n",
      "display 함수가 실행됐습니다.\n",
      "display_info 함수가 호출되기전 입니다.\n",
      "display_info(John, 25) 함수가 실행됐습니다.\n"
     ]
    }
   ],
   "source": [
    "# -*- coding: utf-8 -*-\n",
    "def decorator_function(original_function):\n",
    "    def wrapper_function(*args, **kwargs):  #1\n",
    "        print('{} 함수가 호출되기전 입니다.'.format(original_function.__name__))\n",
    "        return original_function(*args, **kwargs)  #2\n",
    "    return wrapper_function\n",
    "\n",
    "\n",
    "@decorator_function\n",
    "def display():\n",
    "    print('display 함수가 실행됐습니다.')\n",
    "\n",
    "\n",
    "@decorator_function\n",
    "def display_info(name, age):\n",
    "    print('display_info({}, {}) 함수가 실행됐습니다.'.format(name, age))\n",
    "\n",
    "display()\n",
    "print\n",
    "display_info('John', 25)"
   ]
  },
  {
   "cell_type": "code",
   "execution_count": 230,
   "metadata": {},
   "outputs": [
    {
     "name": "stdout",
     "output_type": "stream",
     "text": [
      "display_info(John, 25) 함수가 실행됐습니다.\n"
     ]
    }
   ],
   "source": [
    "# -*- coding: utf-8 -*-\n",
    "import datetime\n",
    "import time\n",
    "\n",
    "\n",
    "def my_logger(original_function):\n",
    "    import logging\n",
    "    logging.basicConfig(filename='{}.log'.format(original_function.__name__), level=logging.INFO)\n",
    "    \n",
    "    def wrapper(*args, **kwargs):\n",
    "        timestamp = datetime.datetime.now().strftime('%Y-%m-%d %H:%M')\n",
    "        logging.info(\n",
    "            '[{}] 실행결과 args - {}, kwargs - {}'.format(timestamp, args, kwargs))\n",
    "        return original_function(*args, **kwargs)\n",
    "\n",
    "    return wrapper\n",
    "\n",
    "\n",
    "@my_logger\n",
    "def display_info(name, age):\n",
    "    time.sleep(1)\n",
    "    print('display_info({}, {}) 함수가 실행됐습니다.'.format(name, age))\n",
    "\n",
    "display_info('John', 25)"
   ]
  },
  {
   "cell_type": "code",
   "execution_count": 231,
   "metadata": {},
   "outputs": [
    {
     "name": "stdout",
     "output_type": "stream",
     "text": [
      "display_info(Jimmy, 30) 함수가 실행됐습니다.\n",
      "display_info 함수가 실행된 총 시간: 1.001251220703125 초\n"
     ]
    }
   ],
   "source": [
    "# -*- coding: utf-8 -*-\n",
    "from functools import wraps\n",
    "import datetime\n",
    "import time\n",
    "\n",
    "\n",
    "def my_logger(original_function):\n",
    "    import logging\n",
    "    logging.basicConfig(filename='{}.log'.format(original_function.__name__), level=logging.INFO)\n",
    "    \n",
    "    @wraps(original_function)  #1\n",
    "    def wrapper(*args, **kwargs):\n",
    "        timestamp = datetime.datetime.now().strftime('%Y-%m-%d %H:%M')\n",
    "        logging.info(\n",
    "            '[{}] 실행결과 args - {}, kwargs - {}'.format(timestamp, args, kwargs))\n",
    "        return original_function(*args, **kwargs)\n",
    "\n",
    "    return wrapper\n",
    "\n",
    "\n",
    "def my_timer(original_function):\n",
    "    import time\n",
    "\n",
    "    @wraps(original_function)  #2\n",
    "    def wrapper(*args, **kwargs):\n",
    "        t1 = time.time()\n",
    "        result = original_function(*args, **kwargs)\n",
    "        t2 = time.time() - t1\n",
    "        print('{} 함수가 실행된 총 시간: {} 초'.format(original_function.__name__, t2))\n",
    "        return result\n",
    "\n",
    "    return wrapper\n",
    "\n",
    "\n",
    "@my_timer\n",
    "@my_logger\n",
    "def display_info(name, age):\n",
    "    time.sleep(1)\n",
    "    print('display_info({}, {}) 함수가 실행됐습니다.'.format(name, age))\n",
    "\n",
    "display_info('Jimmy', 30)  #3"
   ]
  },
  {
   "cell_type": "markdown",
   "metadata": {},
   "source": []
  },
  {
   "cell_type": "code",
   "execution_count": 232,
   "metadata": {},
   "outputs": [],
   "source": [
    "def type_test(vari)->str:\n",
    "    return vari"
   ]
  },
  {
   "cell_type": "code",
   "execution_count": 239,
   "metadata": {},
   "outputs": [
    {
     "data": {
      "text/plain": [
       "32323"
      ]
     },
     "execution_count": 239,
     "metadata": {},
     "output_type": "execute_result"
    }
   ],
   "source": [
    "type_test(32323)"
   ]
  },
  {
   "cell_type": "code",
   "execution_count": 238,
   "metadata": {},
   "outputs": [],
   "source": [
    "def type_test(vari:int)->str:\n",
    "    return vari"
   ]
  },
  {
   "cell_type": "code",
   "execution_count": 240,
   "metadata": {},
   "outputs": [
    {
     "name": "stdout",
     "output_type": "stream",
     "text": [
      "아이템: 아이스크림, 가격: 3000\n",
      "가격 총합: 4000\n",
      "True\n"
     ]
    }
   ],
   "source": [
    "class Food:\n",
    "    def __init__(self, name, price):\n",
    "        self.name = name\n",
    "        self.price = price\n",
    "    def __str__(self):\n",
    "        return '아이템: {}, 가격: {}'.format(self.name, self.price)\n",
    "    \n",
    "    def __add__(self, other):\n",
    "        return '가격 총합: {}'.format(self.price + other.price)\n",
    "    def __lt__(self,other):\n",
    "        if self.price < other.price:\n",
    "            return True\n",
    "        else:\n",
    "            return False\n",
    "food_1 = Food('아이스크림', 3000)\n",
    "food_2 = Food('과자', 1000)\n",
    "\n",
    "# 인스턴스 출력\n",
    "print(food_1)\n",
    "print(food_1+food_2)\n",
    "print(food_1>food_2)"
   ]
  },
  {
   "cell_type": "code",
   "execution_count": null,
   "metadata": {},
   "outputs": [],
   "source": []
  }
 ],
 "metadata": {
  "kernelspec": {
   "display_name": "spark",
   "language": "python",
   "name": "spark"
  },
  "language_info": {
   "codemirror_mode": {
    "name": "ipython",
    "version": 3
   },
   "file_extension": ".py",
   "mimetype": "text/x-python",
   "name": "python",
   "nbconvert_exporter": "python",
   "pygments_lexer": "ipython3",
   "version": "3.6.9"
  }
 },
 "nbformat": 4,
 "nbformat_minor": 4
}
